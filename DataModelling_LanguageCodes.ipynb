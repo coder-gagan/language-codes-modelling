{
 "cells": [
  {
   "cell_type": "markdown",
   "id": "56dc665d",
   "metadata": {},
   "source": [
    "## Lesson 1 Exercise 1: Creating a Table with PostgreSQL"
   ]
  },
  {
   "cell_type": "markdown",
   "id": "00abfcf2",
   "metadata": {},
   "source": [
    "## Install the Dependencies"
   ]
  },
  {
   "cell_type": "code",
   "execution_count": 1,
   "id": "7f768b71",
   "metadata": {},
   "outputs": [
    {
     "name": "stdout",
     "output_type": "stream",
     "text": [
      "Defaulting to user installation because normal site-packages is not writeable\n",
      "Requirement already satisfied: pandas in /Users/glall/Library/Python/3.12/lib/python/site-packages (2.2.1)\n",
      "Requirement already satisfied: psycopg2 in /Users/glall/Library/Python/3.12/lib/python/site-packages (2.9.9)\n",
      "Requirement already satisfied: numpy<2,>=1.26.0 in /Users/glall/Library/Python/3.12/lib/python/site-packages (from pandas) (1.26.4)\n",
      "Requirement already satisfied: python-dateutil>=2.8.2 in /Users/glall/Library/Python/3.12/lib/python/site-packages (from pandas) (2.8.2)\n",
      "Requirement already satisfied: pytz>=2020.1 in /Users/glall/Library/Python/3.12/lib/python/site-packages (from pandas) (2024.1)\n",
      "Requirement already satisfied: tzdata>=2022.7 in /Users/glall/Library/Python/3.12/lib/python/site-packages (from pandas) (2024.1)\n",
      "Requirement already satisfied: six>=1.5 in /Users/glall/Library/Python/3.12/lib/python/site-packages (from python-dateutil>=2.8.2->pandas) (1.16.0)\n",
      "\n",
      "\u001b[1m[\u001b[0m\u001b[34;49mnotice\u001b[0m\u001b[1;39;49m]\u001b[0m\u001b[39;49m A new release of pip is available: \u001b[0m\u001b[31;49m23.2.1\u001b[0m\u001b[39;49m -> \u001b[0m\u001b[32;49m24.0\u001b[0m\n",
      "\u001b[1m[\u001b[0m\u001b[34;49mnotice\u001b[0m\u001b[1;39;49m]\u001b[0m\u001b[39;49m To update, run: \u001b[0m\u001b[32;49mpip3 install --upgrade pip\u001b[0m\n"
     ]
    }
   ],
   "source": [
    "!pip3 install pandas psycopg2"
   ]
  },
  {
   "cell_type": "markdown",
   "id": "af8a71f0",
   "metadata": {},
   "source": [
    "## Clean Up Database to a clean slate"
   ]
  },
  {
   "cell_type": "code",
   "execution_count": 2,
   "id": "3b0e3701",
   "metadata": {},
   "outputs": [
    {
     "name": "stdout",
     "output_type": "stream",
     "text": [
      "\u001b[33mWarning:\u001b[0m Formula postgresql was renamed to postgresql@14.\n",
      "Stopping `postgresql@14`... (might take a while)\n",
      "\u001b[34m==>\u001b[0m \u001b[1mSuccessfully stopped `postgresql@14` (label: homebrew.mxcl.postgresql@14)\u001b[0m\n",
      "\u001b[33mWarning:\u001b[0m Formula postgresql was renamed to postgresql@14.\n",
      "\u001b[34m==>\u001b[0m \u001b[1mSuccessfully started `postgresql@14` (label: homebrew.mxcl.postgresql@14)\u001b[0m\n",
      "DROP DATABASE\n",
      "                         List of databases\n",
      "   Name    | Owner | Encoding | Collate | Ctype | Access privileges \n",
      "-----------+-------+----------+---------+-------+-------------------\n",
      " postgres  | glall | UTF8     | C       | C     | \n",
      " template0 | glall | UTF8     | C       | C     | =c/glall         +\n",
      "           |       |          |         |       | glall=CTc/glall\n",
      " template1 | glall | UTF8     | C       | C     | =c/glall         +\n",
      "           |       |          |         |       | glall=CTc/glall\n",
      "(3 rows)\n",
      "\n"
     ]
    }
   ],
   "source": [
    "!brew services stop postgresql\n",
    "!brew services start postgresql\n",
    "!psql postgres -c \"DROP DATABASE langcodes;\"\n",
    "!psql postgres -c \"\\l\""
   ]
  },
  {
   "cell_type": "markdown",
   "id": "46004eee",
   "metadata": {},
   "source": [
    "## Import the library"
   ]
  },
  {
   "cell_type": "code",
   "execution_count": 3,
   "id": "8a148d09",
   "metadata": {},
   "outputs": [],
   "source": [
    "import psycopg2\n",
    "import pandas as pd"
   ]
  },
  {
   "cell_type": "markdown",
   "id": "7fb0a512",
   "metadata": {},
   "source": [
    "## Defining a method to create database and return a connection and cursor to work upon. This will be executed from later steps"
   ]
  },
  {
   "cell_type": "code",
   "execution_count": 4,
   "id": "e13571e0",
   "metadata": {},
   "outputs": [],
   "source": [
    "def create_database(dbname, user, password):\n",
    "    conn = psycopg2.connect(f\"host=127.0.0.1 dbname=postgres user={user} password={password}\")\n",
    "    conn.set_session(autocommit=True)\n",
    "    cur = conn.cursor()\n",
    "\n",
    "    cur.execute(f\"DROP DATABASE IF EXISTS {dbname}\")\n",
    "    cur.execute(f\"CREATE DATABASE {dbname}\")\n",
    "\n",
    "    conn.close()\n",
    "\n",
    "    conn = psycopg2.connect(f\"host=127.0.0.1 dbname={dbname} user={user} password={password}\")\n",
    "    curr = conn.cursor()\n",
    "\n",
    "    return curr, conn"
   ]
  },
  {
   "cell_type": "markdown",
   "id": "57f84d00",
   "metadata": {},
   "source": [
    "## Read from language-codes_csv.csv"
   ]
  },
  {
   "cell_type": "code",
   "execution_count": 5,
   "id": "79ae369b",
   "metadata": {},
   "outputs": [],
   "source": [
    "language_codes = pd.read_csv(\"dataset/language-codes-3b2_csv.csv\");"
   ]
  },
  {
   "cell_type": "markdown",
   "id": "d1032124",
   "metadata": {},
   "source": [
    "## Display first five rows of the language_codes_clean Dataframe created"
   ]
  },
  {
   "cell_type": "code",
   "execution_count": 6,
   "id": "ffb70757",
   "metadata": {},
   "outputs": [
    {
     "name": "stdout",
     "output_type": "stream",
     "text": [
      "  alpha3-b alpha2    English\n",
      "0      aar     aa       Afar\n",
      "1      abk     ab  Abkhazian\n",
      "2      afr     af  Afrikaans\n",
      "3      aka     ak       Akan\n",
      "4      alb     sq   Albanian\n"
     ]
    }
   ],
   "source": [
    "print(language_codes.head());"
   ]
  },
  {
   "cell_type": "markdown",
   "id": "7e05e8d9",
   "metadata": {},
   "source": [
    "## Rename Columns for language_codes_clean"
   ]
  },
  {
   "cell_type": "code",
   "execution_count": 7,
   "id": "e7ed9542",
   "metadata": {},
   "outputs": [],
   "source": [
    "language_codes_clean = language_codes.rename(columns={\"alpha2\":\"character-code-2\",\"English\":\"english-name\"});"
   ]
  },
  {
   "cell_type": "markdown",
   "id": "e4ed4d1b",
   "metadata": {},
   "source": [
    "## Display first five rows of the language_codes_clean Dataframe updated"
   ]
  },
  {
   "cell_type": "code",
   "execution_count": 8,
   "id": "069555e7",
   "metadata": {},
   "outputs": [
    {
     "name": "stdout",
     "output_type": "stream",
     "text": [
      "  alpha3-b character-code-2 english-name\n",
      "0      aar               aa         Afar\n",
      "1      abk               ab    Abkhazian\n",
      "2      afr               af    Afrikaans\n",
      "3      aka               ak         Akan\n",
      "4      alb               sq     Albanian\n"
     ]
    }
   ],
   "source": [
    "print(language_codes_clean.head());"
   ]
  },
  {
   "cell_type": "markdown",
   "id": "4ad56166",
   "metadata": {},
   "source": [
    "## Read from language_codes_full csv"
   ]
  },
  {
   "cell_type": "code",
   "execution_count": 9,
   "id": "2a0b9e89",
   "metadata": {},
   "outputs": [],
   "source": [
    "language_codes_full = pd.read_csv(\"dataset/language-codes-full_csv.csv\");"
   ]
  },
  {
   "cell_type": "markdown",
   "id": "d6bc9f89",
   "metadata": {},
   "source": [
    "## Peek language_codes_full dataframe"
   ]
  },
  {
   "cell_type": "code",
   "execution_count": 10,
   "id": "185e5739",
   "metadata": {},
   "outputs": [
    {
     "name": "stdout",
     "output_type": "stream",
     "text": [
      "  alpha3-b alpha3-t alpha2    English   French\n",
      "0      aar      NaN     aa       Afar     afar\n",
      "1      abk      NaN     ab  Abkhazian  abkhaze\n",
      "2      ace      NaN    NaN   Achinese     aceh\n",
      "3      ach      NaN    NaN      Acoli    acoli\n",
      "4      ada      NaN    NaN    Adangme  adangme\n"
     ]
    }
   ],
   "source": [
    "print(language_codes_full.head());"
   ]
  },
  {
   "cell_type": "markdown",
   "id": "07e199aa",
   "metadata": {},
   "source": [
    "## Rename columns of language_codes_full Dataframe"
   ]
  },
  {
   "cell_type": "code",
   "execution_count": 11,
   "id": "7aaebacd",
   "metadata": {},
   "outputs": [],
   "source": [
    "language_codes_full = language_codes_full.rename(columns={\"alpha3-b\":\"character-code-3\",\"alpha2\":\"character-code-2\",\"English\":\"english-name\",\"French\":\"french-name\"});"
   ]
  },
  {
   "cell_type": "markdown",
   "id": "5589c99e",
   "metadata": {},
   "source": [
    "## Clean up alpha3-t column"
   ]
  },
  {
   "cell_type": "code",
   "execution_count": 12,
   "id": "3767a86b",
   "metadata": {},
   "outputs": [],
   "source": [
    "language_codes_full_clean = language_codes_full[['character-code-3','character-code-2','english-name','french-name']];"
   ]
  },
  {
   "cell_type": "markdown",
   "id": "a73a94aa",
   "metadata": {},
   "source": [
    "## Clean up blank values"
   ]
  },
  {
   "cell_type": "code",
   "execution_count": 13,
   "id": "21d36ca8",
   "metadata": {},
   "outputs": [],
   "source": [
    "language_codes_full_clean = language_codes_full_clean.fillna('');"
   ]
  },
  {
   "cell_type": "markdown",
   "id": "53a38981",
   "metadata": {},
   "source": [
    "## Print language_codes_full_clean"
   ]
  },
  {
   "cell_type": "code",
   "execution_count": 14,
   "id": "c7b6e2c2",
   "metadata": {
    "scrolled": true
   },
   "outputs": [
    {
     "name": "stdout",
     "output_type": "stream",
     "text": [
      "  character-code-3 character-code-2            english-name  \\\n",
      "0              aar               aa                    Afar   \n",
      "1              abk               ab               Abkhazian   \n",
      "2              ace                                 Achinese   \n",
      "3              ach                                    Acoli   \n",
      "4              ada                                  Adangme   \n",
      "5              ady                           Adyghe; Adygei   \n",
      "6              afa                   Afro-Asiatic languages   \n",
      "7              afh                                 Afrihili   \n",
      "8              afr               af               Afrikaans   \n",
      "9              ain                                     Ainu   \n",
      "\n",
      "                french-name  \n",
      "0                      afar  \n",
      "1                   abkhaze  \n",
      "2                      aceh  \n",
      "3                     acoli  \n",
      "4                   adangme  \n",
      "5                    adyghé  \n",
      "6  afro-asiatiques, langues  \n",
      "7                  afrihili  \n",
      "8                 afrikaans  \n",
      "9                     aïnou  \n"
     ]
    }
   ],
   "source": [
    "print(language_codes_full_clean.head(10));"
   ]
  },
  {
   "cell_type": "markdown",
   "id": "50d4c3a6",
   "metadata": {},
   "source": [
    "## Read from ietf_language_codes_csv"
   ]
  },
  {
   "cell_type": "code",
   "execution_count": 15,
   "id": "e3ad4cde",
   "metadata": {},
   "outputs": [],
   "source": [
    "ietf_language_tags = pd.read_csv(\"dataset/ietf-language-tags_csv.csv\");"
   ]
  },
  {
   "cell_type": "markdown",
   "id": "37ae641f",
   "metadata": {},
   "source": [
    "## Rename columns of ietf_language_codes"
   ]
  },
  {
   "cell_type": "code",
   "execution_count": 16,
   "id": "5669003d",
   "metadata": {},
   "outputs": [],
   "source": [
    "ietf_language_tags = ietf_language_tags.rename(columns={\"langType\":\"lang-type\"});"
   ]
  },
  {
   "cell_type": "markdown",
   "id": "d739635a",
   "metadata": {},
   "source": [
    "## Clean up unneeded columns"
   ]
  },
  {
   "cell_type": "code",
   "execution_count": 17,
   "id": "6ccb783a",
   "metadata": {},
   "outputs": [],
   "source": [
    "ietf_language_tags_clean = ietf_language_tags[['lang','lang-type','territory','defs','file']];"
   ]
  },
  {
   "cell_type": "markdown",
   "id": "c246c9c9",
   "metadata": {},
   "source": [
    "## Clean up blank values"
   ]
  },
  {
   "cell_type": "code",
   "execution_count": 18,
   "id": "74d5dda3",
   "metadata": {},
   "outputs": [],
   "source": [
    "ietf_language_tags_clean = ietf_language_tags_clean.fillna('');"
   ]
  },
  {
   "cell_type": "markdown",
   "id": "112144db",
   "metadata": {},
   "source": [
    "## Peek ietf_language_tags_clean"
   ]
  },
  {
   "cell_type": "code",
   "execution_count": 19,
   "id": "dda68b83",
   "metadata": {
    "scrolled": true
   },
   "outputs": [
    {
     "name": "stdout",
     "output_type": "stream",
     "text": [
      "     lang lang-type territory  defs        file\n",
      "0      af        af              10      af.xml\n",
      "1   af-NA        af               2   af_NA.xml\n",
      "2   af-ZA        af        ZA     0   af_ZA.xml\n",
      "3     agq       agq               6     agq.xml\n",
      "4  agq-CM       agq        CM     0  agq_CM.xml\n",
      "5      ak        ak               6      ak.xml\n",
      "6   ak-GH        ak        GH     0   ak_GH.xml\n",
      "7      am        am              10      am.xml\n",
      "8   am-ET        am        ET     0   am_ET.xml\n",
      "9      ar        ar              11      ar.xml\n"
     ]
    }
   ],
   "source": [
    "print(ietf_language_tags_clean.head(10));"
   ]
  },
  {
   "cell_type": "markdown",
   "id": "cf346902",
   "metadata": {},
   "source": [
    "## Create the database and get a cursor"
   ]
  },
  {
   "cell_type": "code",
   "execution_count": 20,
   "id": "775078cb",
   "metadata": {},
   "outputs": [],
   "source": [
    "curr, conn = create_database(\"langcodes\",\"glall\",\"root\");"
   ]
  },
  {
   "cell_type": "markdown",
   "id": "d3584b07",
   "metadata": {},
   "source": [
    "## Create Function to check custom constraint"
   ]
  },
  {
   "cell_type": "code",
   "execution_count": 21,
   "id": "5d77f1e8",
   "metadata": {},
   "outputs": [],
   "source": [
    "try: \n",
    "    curr.execute(\"CREATE OR REPLACE FUNCTION check_lang_type(lang_type varchar) \\\n",
    "                RETURNS boolean AS $$ \\\n",
    "                BEGIN \\\n",
    "                    RETURN EXISTS (SELECT 1 FROM language_codes WHERE character_code_2 = lang_type) \\\n",
    "                        OR EXISTS (SELECT 1 FROM language_codes_extended WHERE character_code_3 = lang_type); \\\n",
    "                END; \\\n",
    "                $$ LANGUAGE plpgsql;\")\n",
    "\n",
    "    curr.execute(\"CREATE OR REPLACE FUNCTION check_character_code_2(p_character_code_2 varchar) \\\n",
    "                RETURNS boolean AS $$ \\\n",
    "                BEGIN \\\n",
    "                    RETURN p_character_code_2 IS NULL \\\n",
    "                        OR p_character_code_2 = '' \\\n",
    "                        OR EXISTS (SELECT 1 FROM language_codes WHERE character_code_2 = p_character_code_2); \\\n",
    "                END; \\\n",
    "                $$ LANGUAGE plpgsql;\")\n",
    "\n",
    "except psycopg2.Error as e: \n",
    "    print(\"Error: Issue creating custom check constraint\")\n",
    "    print (e)"
   ]
  },
  {
   "cell_type": "markdown",
   "id": "530a7702",
   "metadata": {},
   "source": [
    "## Create Tables for Langcodes database"
   ]
  },
  {
   "cell_type": "code",
   "execution_count": 22,
   "id": "25549b7f",
   "metadata": {},
   "outputs": [],
   "source": [
    "try: \n",
    "    curr.execute(\"CREATE TABLE IF NOT EXISTS language_codes (alpha_3b varchar, character_code_2 varchar PRIMARY KEY, english_name varchar);\")\n",
    "\n",
    "    curr.execute(\"CREATE TABLE IF NOT EXISTS language_codes_extended (character_code_3 varchar PRIMARY KEY, character_code_2 varchar, english_name varchar, french_name varchar, \\\n",
    "                    CONSTRAINT character_code_2_check CHECK (check_character_code_2(character_code_2)));\")\n",
    "    \n",
    "    curr.execute(\"CREATE TABLE IF NOT EXISTS language_codes_ietf (lang varchar PRIMARY KEY, lang_type varchar, territory varchar, defs varchar, file varchar,\\\n",
    "                    CONSTRAINT lang_type_check CHECK (check_lang_type(lang_type)));\")\n",
    "\n",
    "except psycopg2.Error as e: \n",
    "    print(\"Error: Issue creating table\")\n",
    "    print (e)"
   ]
  },
  {
   "cell_type": "markdown",
   "id": "4b9a0f30",
   "metadata": {},
   "source": [
    "## Insert Dataframes into DB tables"
   ]
  },
  {
   "cell_type": "code",
   "execution_count": 23,
   "id": "75a6c009",
   "metadata": {},
   "outputs": [
    {
     "name": "stdout",
     "output_type": "stream",
     "text": [
      "Error while inserting records into tables from dataframes\n",
      "new row for relation \"language_codes_ietf\" violates check constraint \"lang_type_check\"\n",
      "DETAIL:  Failing row contains (agq, agq, , 6, agq.xml).\n",
      "\n"
     ]
    }
   ],
   "source": [
    "try:\n",
    "    language_codes_insert = (\"\"\"INSERT INTO language_codes(alpha_3b, character_code_2, english_name) VALUES (%s, %s, %s)\"\"\")\n",
    "    \n",
    "    for i, row in language_codes_clean.iterrows():\n",
    "        curr.execute(language_codes_insert, list(row))\n",
    "    \n",
    "    conn.commit();\n",
    "    \n",
    "    \n",
    "    language_codes_full_insert = (\"\"\"INSERT INTO language_codes_extended(character_code_3, character_code_2, english_name, french_name) VALUES (%s, %s, %s, %s)\"\"\")\n",
    "    \n",
    "    for i, row in language_codes_full_clean.iterrows():\n",
    "        curr.execute(language_codes_full_insert, list(row))\n",
    "    \n",
    "    conn.commit();\n",
    "    \n",
    "    \n",
    "    ietf_language_tags_insert = (\"\"\"INSERT INTO language_codes_ietf(lang, lang_type, territory, defs, file) VALUES (%s, %s, %s, %s, %s)\"\"\")\n",
    "    \n",
    "    for i, row in ietf_language_tags_clean.iterrows():\n",
    "        curr.execute(ietf_language_tags_insert, list(row))\n",
    "    \n",
    "    conn.commit();\n",
    "\n",
    "except psycopg2.Error as e:\n",
    "    print(\"Error while inserting records into tables from dataframes\")\n",
    "    print(e)\n",
    "    curr.execute(\"ROLLBACK;\");"
   ]
  },
  {
   "cell_type": "markdown",
   "id": "635ccf75",
   "metadata": {},
   "source": [
    "## Relax Constraint on table"
   ]
  },
  {
   "cell_type": "code",
   "execution_count": 24,
   "id": "808d6457",
   "metadata": {},
   "outputs": [],
   "source": [
    "try:\n",
    "    curr.execute(\"ALTER TABLE language_codes_ietf DROP CONSTRAINT lang_type_check;\")\n",
    "\n",
    "except psycopg2.Error as e: \n",
    "    print(\"Error: Issue deleting constraint from table\")\n",
    "    print (e)"
   ]
  },
  {
   "cell_type": "markdown",
   "id": "9cbd1e08",
   "metadata": {},
   "source": [
    "## Retry addition of records into language_codes_ietf table"
   ]
  },
  {
   "cell_type": "code",
   "execution_count": 25,
   "id": "8ed90d1b",
   "metadata": {},
   "outputs": [],
   "source": [
    "try:\n",
    "    \n",
    "    ietf_language_tags_insert = (\"\"\"INSERT INTO language_codes_ietf(lang, lang_type, territory, defs, file) VALUES (%s, %s, %s, %s, %s)\"\"\")\n",
    "    \n",
    "    for i, row in ietf_language_tags_clean.iterrows():\n",
    "        curr.execute(ietf_language_tags_insert, list(row))\n",
    "    \n",
    "    conn.commit();\n",
    "\n",
    "except psycopg2.Error as e:\n",
    "    print(\"Error while inserting records into tables from dataframes\")\n",
    "    print(e)\n",
    "    curr.execute(\"ROLLBACK;\");"
   ]
  },
  {
   "cell_type": "markdown",
   "id": "7dc5483a",
   "metadata": {},
   "source": [
    "##  And finally close your cursor and connection."
   ]
  },
  {
   "cell_type": "code",
   "execution_count": 26,
   "id": "a95e6d61",
   "metadata": {},
   "outputs": [],
   "source": [
    "curr.close()\n",
    "conn.close()"
   ]
  }
 ],
 "metadata": {
  "kernelspec": {
   "display_name": "Python 3 (ipykernel)",
   "language": "python",
   "name": "python3"
  },
  "language_info": {
   "codemirror_mode": {
    "name": "ipython",
    "version": 3
   },
   "file_extension": ".py",
   "mimetype": "text/x-python",
   "name": "python",
   "nbconvert_exporter": "python",
   "pygments_lexer": "ipython3",
   "version": "3.12.2"
  }
 },
 "nbformat": 4,
 "nbformat_minor": 5
}
